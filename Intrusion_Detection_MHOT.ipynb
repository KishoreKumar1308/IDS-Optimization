{
  "nbformat": 4,
  "nbformat_minor": 0,
  "metadata": {
    "colab": {
      "provenance": []
    },
    "kernelspec": {
      "name": "python3",
      "display_name": "Python 3"
    },
    "language_info": {
      "name": "python"
    }
  },
  "cells": [
    {
      "cell_type": "code",
      "execution_count": 52,
      "metadata": {
        "id": "I4DuhCmhKBPL"
      },
      "outputs": [],
      "source": [
        "import pandas as pd\n",
        "from sklearn.model_selection import train_test_split\n",
        "from sklearn.preprocessing import LabelEncoder, StandardScaler\n",
        "from sklearn.feature_selection import SelectKBest, mutual_info_classif\n",
        "from sklearn.ensemble import RandomForestClassifier\n",
        "from sklearn.metrics import accuracy_score\n",
        "import numpy as np\n",
        "import random"
      ]
    },
    {
      "cell_type": "code",
      "source": [
        "df = pd.read_csv('/content/KDDTrain+.txt')"
      ],
      "metadata": {
        "id": "JWw6CbVlKMUx"
      },
      "execution_count": 53,
      "outputs": []
    },
    {
      "cell_type": "code",
      "source": [
        "columns = (['duration','protocol_type','service','flag','src_bytes','dst_bytes','land','wrong_fragment','urgent','hot'\n",
        ",'num_failed_logins','logged_in','num_compromised','root_shell','su_attempted','num_root','num_file_creations'\n",
        ",'num_shells','num_access_files','num_outbound_cmds','is_host_login','is_guest_login','count','srv_count','serror_rate'\n",
        ",'srv_serror_rate','rerror_rate','srv_rerror_rate','same_srv_rate','diff_srv_rate','srv_diff_host_rate','dst_host_count','dst_host_srv_count'\n",
        ",'dst_host_same_srv_rate','dst_host_diff_srv_rate','dst_host_same_src_port_rate','dst_host_srv_diff_host_rate','dst_host_serror_rate'\n",
        ",'dst_host_srv_serror_rate','dst_host_rerror_rate','dst_host_srv_rerror_rate','label','level'])"
      ],
      "metadata": {
        "id": "0HxrciKEL5hW"
      },
      "execution_count": 54,
      "outputs": []
    },
    {
      "cell_type": "code",
      "source": [
        "df.columns = columns"
      ],
      "metadata": {
        "id": "1a0wi-SRL_dA"
      },
      "execution_count": 55,
      "outputs": []
    },
    {
      "cell_type": "code",
      "source": [
        "df.head()"
      ],
      "metadata": {
        "colab": {
          "base_uri": "https://localhost:8080/",
          "height": 299
        },
        "id": "TnNFwwtIMDuf",
        "outputId": "cf183639-2e6d-4766-dde0-a36b7c87c580"
      },
      "execution_count": 56,
      "outputs": [
        {
          "output_type": "execute_result",
          "data": {
            "text/plain": [
              "   duration protocol_type  service flag  src_bytes  dst_bytes  land  \\\n",
              "0         0           udp    other   SF        146          0     0   \n",
              "1         0           tcp  private   S0          0          0     0   \n",
              "2         0           tcp     http   SF        232       8153     0   \n",
              "3         0           tcp     http   SF        199        420     0   \n",
              "4         0           tcp  private  REJ          0          0     0   \n",
              "\n",
              "   wrong_fragment  urgent  hot  ...  dst_host_same_srv_rate  \\\n",
              "0               0       0    0  ...                    0.00   \n",
              "1               0       0    0  ...                    0.10   \n",
              "2               0       0    0  ...                    1.00   \n",
              "3               0       0    0  ...                    1.00   \n",
              "4               0       0    0  ...                    0.07   \n",
              "\n",
              "   dst_host_diff_srv_rate  dst_host_same_src_port_rate  \\\n",
              "0                    0.60                         0.88   \n",
              "1                    0.05                         0.00   \n",
              "2                    0.00                         0.03   \n",
              "3                    0.00                         0.00   \n",
              "4                    0.07                         0.00   \n",
              "\n",
              "   dst_host_srv_diff_host_rate  dst_host_serror_rate  \\\n",
              "0                         0.00                  0.00   \n",
              "1                         0.00                  1.00   \n",
              "2                         0.04                  0.03   \n",
              "3                         0.00                  0.00   \n",
              "4                         0.00                  0.00   \n",
              "\n",
              "   dst_host_srv_serror_rate  dst_host_rerror_rate  dst_host_srv_rerror_rate  \\\n",
              "0                      0.00                   0.0                      0.00   \n",
              "1                      1.00                   0.0                      0.00   \n",
              "2                      0.01                   0.0                      0.01   \n",
              "3                      0.00                   0.0                      0.00   \n",
              "4                      0.00                   1.0                      1.00   \n",
              "\n",
              "     label  level  \n",
              "0   normal     15  \n",
              "1  neptune     19  \n",
              "2   normal     21  \n",
              "3   normal     21  \n",
              "4  neptune     21  \n",
              "\n",
              "[5 rows x 43 columns]"
            ],
            "text/html": [
              "\n",
              "  <div id=\"df-fc0c9223-e3c2-4c93-9972-33d6c9fb4bdd\">\n",
              "    <div class=\"colab-df-container\">\n",
              "      <div>\n",
              "<style scoped>\n",
              "    .dataframe tbody tr th:only-of-type {\n",
              "        vertical-align: middle;\n",
              "    }\n",
              "\n",
              "    .dataframe tbody tr th {\n",
              "        vertical-align: top;\n",
              "    }\n",
              "\n",
              "    .dataframe thead th {\n",
              "        text-align: right;\n",
              "    }\n",
              "</style>\n",
              "<table border=\"1\" class=\"dataframe\">\n",
              "  <thead>\n",
              "    <tr style=\"text-align: right;\">\n",
              "      <th></th>\n",
              "      <th>duration</th>\n",
              "      <th>protocol_type</th>\n",
              "      <th>service</th>\n",
              "      <th>flag</th>\n",
              "      <th>src_bytes</th>\n",
              "      <th>dst_bytes</th>\n",
              "      <th>land</th>\n",
              "      <th>wrong_fragment</th>\n",
              "      <th>urgent</th>\n",
              "      <th>hot</th>\n",
              "      <th>...</th>\n",
              "      <th>dst_host_same_srv_rate</th>\n",
              "      <th>dst_host_diff_srv_rate</th>\n",
              "      <th>dst_host_same_src_port_rate</th>\n",
              "      <th>dst_host_srv_diff_host_rate</th>\n",
              "      <th>dst_host_serror_rate</th>\n",
              "      <th>dst_host_srv_serror_rate</th>\n",
              "      <th>dst_host_rerror_rate</th>\n",
              "      <th>dst_host_srv_rerror_rate</th>\n",
              "      <th>label</th>\n",
              "      <th>level</th>\n",
              "    </tr>\n",
              "  </thead>\n",
              "  <tbody>\n",
              "    <tr>\n",
              "      <th>0</th>\n",
              "      <td>0</td>\n",
              "      <td>udp</td>\n",
              "      <td>other</td>\n",
              "      <td>SF</td>\n",
              "      <td>146</td>\n",
              "      <td>0</td>\n",
              "      <td>0</td>\n",
              "      <td>0</td>\n",
              "      <td>0</td>\n",
              "      <td>0</td>\n",
              "      <td>...</td>\n",
              "      <td>0.00</td>\n",
              "      <td>0.60</td>\n",
              "      <td>0.88</td>\n",
              "      <td>0.00</td>\n",
              "      <td>0.00</td>\n",
              "      <td>0.00</td>\n",
              "      <td>0.0</td>\n",
              "      <td>0.00</td>\n",
              "      <td>normal</td>\n",
              "      <td>15</td>\n",
              "    </tr>\n",
              "    <tr>\n",
              "      <th>1</th>\n",
              "      <td>0</td>\n",
              "      <td>tcp</td>\n",
              "      <td>private</td>\n",
              "      <td>S0</td>\n",
              "      <td>0</td>\n",
              "      <td>0</td>\n",
              "      <td>0</td>\n",
              "      <td>0</td>\n",
              "      <td>0</td>\n",
              "      <td>0</td>\n",
              "      <td>...</td>\n",
              "      <td>0.10</td>\n",
              "      <td>0.05</td>\n",
              "      <td>0.00</td>\n",
              "      <td>0.00</td>\n",
              "      <td>1.00</td>\n",
              "      <td>1.00</td>\n",
              "      <td>0.0</td>\n",
              "      <td>0.00</td>\n",
              "      <td>neptune</td>\n",
              "      <td>19</td>\n",
              "    </tr>\n",
              "    <tr>\n",
              "      <th>2</th>\n",
              "      <td>0</td>\n",
              "      <td>tcp</td>\n",
              "      <td>http</td>\n",
              "      <td>SF</td>\n",
              "      <td>232</td>\n",
              "      <td>8153</td>\n",
              "      <td>0</td>\n",
              "      <td>0</td>\n",
              "      <td>0</td>\n",
              "      <td>0</td>\n",
              "      <td>...</td>\n",
              "      <td>1.00</td>\n",
              "      <td>0.00</td>\n",
              "      <td>0.03</td>\n",
              "      <td>0.04</td>\n",
              "      <td>0.03</td>\n",
              "      <td>0.01</td>\n",
              "      <td>0.0</td>\n",
              "      <td>0.01</td>\n",
              "      <td>normal</td>\n",
              "      <td>21</td>\n",
              "    </tr>\n",
              "    <tr>\n",
              "      <th>3</th>\n",
              "      <td>0</td>\n",
              "      <td>tcp</td>\n",
              "      <td>http</td>\n",
              "      <td>SF</td>\n",
              "      <td>199</td>\n",
              "      <td>420</td>\n",
              "      <td>0</td>\n",
              "      <td>0</td>\n",
              "      <td>0</td>\n",
              "      <td>0</td>\n",
              "      <td>...</td>\n",
              "      <td>1.00</td>\n",
              "      <td>0.00</td>\n",
              "      <td>0.00</td>\n",
              "      <td>0.00</td>\n",
              "      <td>0.00</td>\n",
              "      <td>0.00</td>\n",
              "      <td>0.0</td>\n",
              "      <td>0.00</td>\n",
              "      <td>normal</td>\n",
              "      <td>21</td>\n",
              "    </tr>\n",
              "    <tr>\n",
              "      <th>4</th>\n",
              "      <td>0</td>\n",
              "      <td>tcp</td>\n",
              "      <td>private</td>\n",
              "      <td>REJ</td>\n",
              "      <td>0</td>\n",
              "      <td>0</td>\n",
              "      <td>0</td>\n",
              "      <td>0</td>\n",
              "      <td>0</td>\n",
              "      <td>0</td>\n",
              "      <td>...</td>\n",
              "      <td>0.07</td>\n",
              "      <td>0.07</td>\n",
              "      <td>0.00</td>\n",
              "      <td>0.00</td>\n",
              "      <td>0.00</td>\n",
              "      <td>0.00</td>\n",
              "      <td>1.0</td>\n",
              "      <td>1.00</td>\n",
              "      <td>neptune</td>\n",
              "      <td>21</td>\n",
              "    </tr>\n",
              "  </tbody>\n",
              "</table>\n",
              "<p>5 rows × 43 columns</p>\n",
              "</div>\n",
              "      <button class=\"colab-df-convert\" onclick=\"convertToInteractive('df-fc0c9223-e3c2-4c93-9972-33d6c9fb4bdd')\"\n",
              "              title=\"Convert this dataframe to an interactive table.\"\n",
              "              style=\"display:none;\">\n",
              "        \n",
              "  <svg xmlns=\"http://www.w3.org/2000/svg\" height=\"24px\"viewBox=\"0 0 24 24\"\n",
              "       width=\"24px\">\n",
              "    <path d=\"M0 0h24v24H0V0z\" fill=\"none\"/>\n",
              "    <path d=\"M18.56 5.44l.94 2.06.94-2.06 2.06-.94-2.06-.94-.94-2.06-.94 2.06-2.06.94zm-11 1L8.5 8.5l.94-2.06 2.06-.94-2.06-.94L8.5 2.5l-.94 2.06-2.06.94zm10 10l.94 2.06.94-2.06 2.06-.94-2.06-.94-.94-2.06-.94 2.06-2.06.94z\"/><path d=\"M17.41 7.96l-1.37-1.37c-.4-.4-.92-.59-1.43-.59-.52 0-1.04.2-1.43.59L10.3 9.45l-7.72 7.72c-.78.78-.78 2.05 0 2.83L4 21.41c.39.39.9.59 1.41.59.51 0 1.02-.2 1.41-.59l7.78-7.78 2.81-2.81c.8-.78.8-2.07 0-2.86zM5.41 20L4 18.59l7.72-7.72 1.47 1.35L5.41 20z\"/>\n",
              "  </svg>\n",
              "      </button>\n",
              "      \n",
              "  <style>\n",
              "    .colab-df-container {\n",
              "      display:flex;\n",
              "      flex-wrap:wrap;\n",
              "      gap: 12px;\n",
              "    }\n",
              "\n",
              "    .colab-df-convert {\n",
              "      background-color: #E8F0FE;\n",
              "      border: none;\n",
              "      border-radius: 50%;\n",
              "      cursor: pointer;\n",
              "      display: none;\n",
              "      fill: #1967D2;\n",
              "      height: 32px;\n",
              "      padding: 0 0 0 0;\n",
              "      width: 32px;\n",
              "    }\n",
              "\n",
              "    .colab-df-convert:hover {\n",
              "      background-color: #E2EBFA;\n",
              "      box-shadow: 0px 1px 2px rgba(60, 64, 67, 0.3), 0px 1px 3px 1px rgba(60, 64, 67, 0.15);\n",
              "      fill: #174EA6;\n",
              "    }\n",
              "\n",
              "    [theme=dark] .colab-df-convert {\n",
              "      background-color: #3B4455;\n",
              "      fill: #D2E3FC;\n",
              "    }\n",
              "\n",
              "    [theme=dark] .colab-df-convert:hover {\n",
              "      background-color: #434B5C;\n",
              "      box-shadow: 0px 1px 3px 1px rgba(0, 0, 0, 0.15);\n",
              "      filter: drop-shadow(0px 1px 2px rgba(0, 0, 0, 0.3));\n",
              "      fill: #FFFFFF;\n",
              "    }\n",
              "  </style>\n",
              "\n",
              "      <script>\n",
              "        const buttonEl =\n",
              "          document.querySelector('#df-fc0c9223-e3c2-4c93-9972-33d6c9fb4bdd button.colab-df-convert');\n",
              "        buttonEl.style.display =\n",
              "          google.colab.kernel.accessAllowed ? 'block' : 'none';\n",
              "\n",
              "        async function convertToInteractive(key) {\n",
              "          const element = document.querySelector('#df-fc0c9223-e3c2-4c93-9972-33d6c9fb4bdd');\n",
              "          const dataTable =\n",
              "            await google.colab.kernel.invokeFunction('convertToInteractive',\n",
              "                                                     [key], {});\n",
              "          if (!dataTable) return;\n",
              "\n",
              "          const docLinkHtml = 'Like what you see? Visit the ' +\n",
              "            '<a target=\"_blank\" href=https://colab.research.google.com/notebooks/data_table.ipynb>data table notebook</a>'\n",
              "            + ' to learn more about interactive tables.';\n",
              "          element.innerHTML = '';\n",
              "          dataTable['output_type'] = 'display_data';\n",
              "          await google.colab.output.renderOutput(dataTable, element);\n",
              "          const docLink = document.createElement('div');\n",
              "          docLink.innerHTML = docLinkHtml;\n",
              "          element.appendChild(docLink);\n",
              "        }\n",
              "      </script>\n",
              "    </div>\n",
              "  </div>\n",
              "  "
            ]
          },
          "metadata": {},
          "execution_count": 56
        }
      ]
    },
    {
      "cell_type": "markdown",
      "source": [
        "### Data preprocessing"
      ],
      "metadata": {
        "id": "ClQ2W6ANMJIX"
      }
    },
    {
      "cell_type": "code",
      "source": [
        "# Drop unnecessary columns\n",
        "df = df.drop(['num_outbound_cmds'], axis=1)\n",
        "# Encode categorical features\n",
        "categorical_cols = ['protocol_type', 'service', 'flag']\n",
        "for col in categorical_cols:\n",
        "    le = LabelEncoder()\n",
        "    df[col] = le.fit_transform(df[col])\n",
        "# Convert labels to binary: normal (0) or attack (1)\n",
        "df['label'] = df['label'].apply(lambda x: 0 if x == 'normal' else 1)\n",
        "\n",
        "# Split data into features and labels\n",
        "X = df.drop(['label'], axis=1)\n",
        "y = df['label']\n",
        "\n",
        "# Split data into training and testing sets\n",
        "X_train, X_test, y_train, y_test = train_test_split(X, y, test_size = 0.3, random_state = 42)"
      ],
      "metadata": {
        "id": "U2g8krfbMEu3"
      },
      "execution_count": 57,
      "outputs": []
    },
    {
      "cell_type": "markdown",
      "source": [
        "### Perform feature selection using Harmony Search algorithm"
      ],
      "metadata": {
        "id": "DrEak4hOMUlm"
      }
    },
    {
      "cell_type": "code",
      "source": [
        "def evaluate_features(X, y, n_features):\n",
        "    selector = SelectKBest(score_func=mutual_info_classif, k=n_features)\n",
        "    X_new = selector.fit_transform(X, y)\n",
        "    return X_new, selector.scores_"
      ],
      "metadata": {
        "id": "CWfkj9RsMQNg"
      },
      "execution_count": 58,
      "outputs": []
    },
    {
      "cell_type": "code",
      "source": [
        "def harmony_search(X, y, n_features, max_iter, hms=10, hmcr=0.95, par=0.5):\n",
        "    # Initialize the harmony memory\n",
        "    harmony_memory = np.zeros((hms, X.shape[1]), dtype=int)\n",
        "    for i in range(hms):\n",
        "        # Randomly initialize the harmony\n",
        "        harmony = np.zeros(X.shape[1], dtype=int)\n",
        "        for j in range(X.shape[1]):\n",
        "            if random.random() < hmcr:\n",
        "                # Use memory consideration to determine the value of the harmony\n",
        "                if random.random() < par:\n",
        "                    harmony[j] = 1\n",
        "                else:\n",
        "                    harmony[j] = 0\n",
        "            else:\n",
        "                # Randomly select a value for the harmony\n",
        "                harmony[j] = random.randint(0, 1)\n",
        "        harmony_memory[i] = harmony\n",
        "\n",
        "    # Evaluate the fitness of the initial harmony memory\n",
        "    X_hm, scores_hm = evaluate_features(X_train, y_train, n_features)\n",
        "    best_harmony = np.argmin(scores_hm)\n",
        "    best_score = scores_hm[best_harmony]\n",
        "\n",
        "    # Harmony Search main loop\n",
        "    for t in range(max_iter):\n",
        "        print(f\"Iteration {t}\")\n",
        "        # Generate a new harmony\n",
        "        harmony = np.zeros(X.shape[1], dtype=int)\n",
        "        for j in range(X.shape[1]):\n",
        "            if random.random() < hmcr:\n",
        "                if random.random() < par:\n",
        "                    harmony[j] = 1\n",
        "                else:\n",
        "                    harmony[j] = 0\n",
        "            else:\n",
        "                harmony[j] = random.randint(0, 1)\n",
        "\n",
        "        # Evaluate the fitness of the new harmony\n",
        "        X_h, scores_h = evaluate_features(X_train, y_train, n_features)\n",
        "        worst_harmony = np.argmax(scores_h)\n",
        "        worst_score = scores_h[worst_harmony]\n",
        "\n",
        "        # Update the harmony memory\n",
        "        if scores_h[worst_harmony] < best_score and worst_harmony < hms:\n",
        "            worst_harmony = worst_harmony % hms\n",
        "            harmony_memory[worst_harmony, :n_features] = harmony\n",
        "            best_harmony = worst_harmony\n",
        "            best_score = scores_h[worst_harmony]\n",
        "\n",
        "    # Create a boolean index with the same shape as X_train.columns\n",
        "    boolean_index = np.zeros_like(X_train.columns, dtype=bool)\n",
        "    boolean_index[:n_features][harmony_memory[best_harmony, :n_features] == 1] = True\n",
        "\n",
        "    selected_features = X_train.columns[boolean_index]\n",
        "    return selected_features"
      ],
      "metadata": {
        "id": "GskX_PCTMa6-"
      },
      "execution_count": 61,
      "outputs": []
    },
    {
      "cell_type": "code",
      "source": [
        "n_features = 25 # Number of features to select\n",
        "max_iter = 5 # Maximum number of iterations\n",
        "selected_features = harmony_search(X_train, y_train, n_features, max_iter)"
      ],
      "metadata": {
        "colab": {
          "base_uri": "https://localhost:8080/"
        },
        "id": "rArPu0maNSGP",
        "outputId": "5e956969-ee36-40cf-ac61-39248cd3bdf6"
      },
      "execution_count": 62,
      "outputs": [
        {
          "output_type": "stream",
          "name": "stdout",
          "text": [
            "Iteration 0\n",
            "Iteration 1\n",
            "Iteration 2\n",
            "Iteration 3\n",
            "Iteration 4\n"
          ]
        }
      ]
    },
    {
      "cell_type": "code",
      "source": [
        "selected_features"
      ],
      "metadata": {
        "colab": {
          "base_uri": "https://localhost:8080/"
        },
        "id": "yNYzOK6hNVMp",
        "outputId": "bce4fd04-d3ac-47ef-c1ec-39a251981988"
      },
      "execution_count": 63,
      "outputs": [
        {
          "output_type": "execute_result",
          "data": {
            "text/plain": [
              "Index(['duration', 'service', 'flag', 'src_bytes', 'dst_bytes',\n",
              "       'wrong_fragment', 'urgent', 'num_failed_logins', 'logged_in',\n",
              "       'root_shell', 'su_attempted', 'num_shells', 'is_host_login',\n",
              "       'is_guest_login', 'count', 'serror_rate', 'srv_serror_rate'],\n",
              "      dtype='object')"
            ]
          },
          "metadata": {},
          "execution_count": 63
        }
      ]
    },
    {
      "cell_type": "code",
      "source": [
        "X[selected_features]"
      ],
      "metadata": {
        "colab": {
          "base_uri": "https://localhost:8080/",
          "height": 487
        },
        "id": "kFqZctEcbroz",
        "outputId": "da951756-bc90-4b53-9051-2393d64a3972"
      },
      "execution_count": 64,
      "outputs": [
        {
          "output_type": "execute_result",
          "data": {
            "text/plain": [
              "        duration  service  flag  src_bytes  dst_bytes  wrong_fragment  urgent  \\\n",
              "0              0       44     9        146          0               0       0   \n",
              "1              0       49     5          0          0               0       0   \n",
              "2              0       24     9        232       8153               0       0   \n",
              "3              0       24     9        199        420               0       0   \n",
              "4              0       49     1          0          0               0       0   \n",
              "...          ...      ...   ...        ...        ...             ...     ...   \n",
              "125967         0       49     5          0          0               0       0   \n",
              "125968         8       49     9        105        145               0       0   \n",
              "125969         0       54     9       2231        384               0       0   \n",
              "125970         0       30     5          0          0               0       0   \n",
              "125971         0       20     9        151          0               0       0   \n",
              "\n",
              "        num_failed_logins  logged_in  root_shell  su_attempted  num_shells  \\\n",
              "0                       0          0           0             0           0   \n",
              "1                       0          0           0             0           0   \n",
              "2                       0          1           0             0           0   \n",
              "3                       0          1           0             0           0   \n",
              "4                       0          0           0             0           0   \n",
              "...                   ...        ...         ...           ...         ...   \n",
              "125967                  0          0           0             0           0   \n",
              "125968                  0          0           0             0           0   \n",
              "125969                  0          1           0             0           0   \n",
              "125970                  0          0           0             0           0   \n",
              "125971                  0          1           0             0           0   \n",
              "\n",
              "        is_host_login  is_guest_login  count  serror_rate  srv_serror_rate  \n",
              "0                   0               0     13          0.0              0.0  \n",
              "1                   0               0    123          1.0              1.0  \n",
              "2                   0               0      5          0.2              0.2  \n",
              "3                   0               0     30          0.0              0.0  \n",
              "4                   0               0    121          0.0              0.0  \n",
              "...               ...             ...    ...          ...              ...  \n",
              "125967              0               0    184          1.0              1.0  \n",
              "125968              0               0      2          0.0              0.0  \n",
              "125969              0               0      1          0.0              0.0  \n",
              "125970              0               0    144          1.0              1.0  \n",
              "125971              0               0      1          0.0              0.0  \n",
              "\n",
              "[125972 rows x 17 columns]"
            ],
            "text/html": [
              "\n",
              "  <div id=\"df-6fe36e4a-c63f-407e-b818-5c66400a5f34\">\n",
              "    <div class=\"colab-df-container\">\n",
              "      <div>\n",
              "<style scoped>\n",
              "    .dataframe tbody tr th:only-of-type {\n",
              "        vertical-align: middle;\n",
              "    }\n",
              "\n",
              "    .dataframe tbody tr th {\n",
              "        vertical-align: top;\n",
              "    }\n",
              "\n",
              "    .dataframe thead th {\n",
              "        text-align: right;\n",
              "    }\n",
              "</style>\n",
              "<table border=\"1\" class=\"dataframe\">\n",
              "  <thead>\n",
              "    <tr style=\"text-align: right;\">\n",
              "      <th></th>\n",
              "      <th>duration</th>\n",
              "      <th>service</th>\n",
              "      <th>flag</th>\n",
              "      <th>src_bytes</th>\n",
              "      <th>dst_bytes</th>\n",
              "      <th>wrong_fragment</th>\n",
              "      <th>urgent</th>\n",
              "      <th>num_failed_logins</th>\n",
              "      <th>logged_in</th>\n",
              "      <th>root_shell</th>\n",
              "      <th>su_attempted</th>\n",
              "      <th>num_shells</th>\n",
              "      <th>is_host_login</th>\n",
              "      <th>is_guest_login</th>\n",
              "      <th>count</th>\n",
              "      <th>serror_rate</th>\n",
              "      <th>srv_serror_rate</th>\n",
              "    </tr>\n",
              "  </thead>\n",
              "  <tbody>\n",
              "    <tr>\n",
              "      <th>0</th>\n",
              "      <td>0</td>\n",
              "      <td>44</td>\n",
              "      <td>9</td>\n",
              "      <td>146</td>\n",
              "      <td>0</td>\n",
              "      <td>0</td>\n",
              "      <td>0</td>\n",
              "      <td>0</td>\n",
              "      <td>0</td>\n",
              "      <td>0</td>\n",
              "      <td>0</td>\n",
              "      <td>0</td>\n",
              "      <td>0</td>\n",
              "      <td>0</td>\n",
              "      <td>13</td>\n",
              "      <td>0.0</td>\n",
              "      <td>0.0</td>\n",
              "    </tr>\n",
              "    <tr>\n",
              "      <th>1</th>\n",
              "      <td>0</td>\n",
              "      <td>49</td>\n",
              "      <td>5</td>\n",
              "      <td>0</td>\n",
              "      <td>0</td>\n",
              "      <td>0</td>\n",
              "      <td>0</td>\n",
              "      <td>0</td>\n",
              "      <td>0</td>\n",
              "      <td>0</td>\n",
              "      <td>0</td>\n",
              "      <td>0</td>\n",
              "      <td>0</td>\n",
              "      <td>0</td>\n",
              "      <td>123</td>\n",
              "      <td>1.0</td>\n",
              "      <td>1.0</td>\n",
              "    </tr>\n",
              "    <tr>\n",
              "      <th>2</th>\n",
              "      <td>0</td>\n",
              "      <td>24</td>\n",
              "      <td>9</td>\n",
              "      <td>232</td>\n",
              "      <td>8153</td>\n",
              "      <td>0</td>\n",
              "      <td>0</td>\n",
              "      <td>0</td>\n",
              "      <td>1</td>\n",
              "      <td>0</td>\n",
              "      <td>0</td>\n",
              "      <td>0</td>\n",
              "      <td>0</td>\n",
              "      <td>0</td>\n",
              "      <td>5</td>\n",
              "      <td>0.2</td>\n",
              "      <td>0.2</td>\n",
              "    </tr>\n",
              "    <tr>\n",
              "      <th>3</th>\n",
              "      <td>0</td>\n",
              "      <td>24</td>\n",
              "      <td>9</td>\n",
              "      <td>199</td>\n",
              "      <td>420</td>\n",
              "      <td>0</td>\n",
              "      <td>0</td>\n",
              "      <td>0</td>\n",
              "      <td>1</td>\n",
              "      <td>0</td>\n",
              "      <td>0</td>\n",
              "      <td>0</td>\n",
              "      <td>0</td>\n",
              "      <td>0</td>\n",
              "      <td>30</td>\n",
              "      <td>0.0</td>\n",
              "      <td>0.0</td>\n",
              "    </tr>\n",
              "    <tr>\n",
              "      <th>4</th>\n",
              "      <td>0</td>\n",
              "      <td>49</td>\n",
              "      <td>1</td>\n",
              "      <td>0</td>\n",
              "      <td>0</td>\n",
              "      <td>0</td>\n",
              "      <td>0</td>\n",
              "      <td>0</td>\n",
              "      <td>0</td>\n",
              "      <td>0</td>\n",
              "      <td>0</td>\n",
              "      <td>0</td>\n",
              "      <td>0</td>\n",
              "      <td>0</td>\n",
              "      <td>121</td>\n",
              "      <td>0.0</td>\n",
              "      <td>0.0</td>\n",
              "    </tr>\n",
              "    <tr>\n",
              "      <th>...</th>\n",
              "      <td>...</td>\n",
              "      <td>...</td>\n",
              "      <td>...</td>\n",
              "      <td>...</td>\n",
              "      <td>...</td>\n",
              "      <td>...</td>\n",
              "      <td>...</td>\n",
              "      <td>...</td>\n",
              "      <td>...</td>\n",
              "      <td>...</td>\n",
              "      <td>...</td>\n",
              "      <td>...</td>\n",
              "      <td>...</td>\n",
              "      <td>...</td>\n",
              "      <td>...</td>\n",
              "      <td>...</td>\n",
              "      <td>...</td>\n",
              "    </tr>\n",
              "    <tr>\n",
              "      <th>125967</th>\n",
              "      <td>0</td>\n",
              "      <td>49</td>\n",
              "      <td>5</td>\n",
              "      <td>0</td>\n",
              "      <td>0</td>\n",
              "      <td>0</td>\n",
              "      <td>0</td>\n",
              "      <td>0</td>\n",
              "      <td>0</td>\n",
              "      <td>0</td>\n",
              "      <td>0</td>\n",
              "      <td>0</td>\n",
              "      <td>0</td>\n",
              "      <td>0</td>\n",
              "      <td>184</td>\n",
              "      <td>1.0</td>\n",
              "      <td>1.0</td>\n",
              "    </tr>\n",
              "    <tr>\n",
              "      <th>125968</th>\n",
              "      <td>8</td>\n",
              "      <td>49</td>\n",
              "      <td>9</td>\n",
              "      <td>105</td>\n",
              "      <td>145</td>\n",
              "      <td>0</td>\n",
              "      <td>0</td>\n",
              "      <td>0</td>\n",
              "      <td>0</td>\n",
              "      <td>0</td>\n",
              "      <td>0</td>\n",
              "      <td>0</td>\n",
              "      <td>0</td>\n",
              "      <td>0</td>\n",
              "      <td>2</td>\n",
              "      <td>0.0</td>\n",
              "      <td>0.0</td>\n",
              "    </tr>\n",
              "    <tr>\n",
              "      <th>125969</th>\n",
              "      <td>0</td>\n",
              "      <td>54</td>\n",
              "      <td>9</td>\n",
              "      <td>2231</td>\n",
              "      <td>384</td>\n",
              "      <td>0</td>\n",
              "      <td>0</td>\n",
              "      <td>0</td>\n",
              "      <td>1</td>\n",
              "      <td>0</td>\n",
              "      <td>0</td>\n",
              "      <td>0</td>\n",
              "      <td>0</td>\n",
              "      <td>0</td>\n",
              "      <td>1</td>\n",
              "      <td>0.0</td>\n",
              "      <td>0.0</td>\n",
              "    </tr>\n",
              "    <tr>\n",
              "      <th>125970</th>\n",
              "      <td>0</td>\n",
              "      <td>30</td>\n",
              "      <td>5</td>\n",
              "      <td>0</td>\n",
              "      <td>0</td>\n",
              "      <td>0</td>\n",
              "      <td>0</td>\n",
              "      <td>0</td>\n",
              "      <td>0</td>\n",
              "      <td>0</td>\n",
              "      <td>0</td>\n",
              "      <td>0</td>\n",
              "      <td>0</td>\n",
              "      <td>0</td>\n",
              "      <td>144</td>\n",
              "      <td>1.0</td>\n",
              "      <td>1.0</td>\n",
              "    </tr>\n",
              "    <tr>\n",
              "      <th>125971</th>\n",
              "      <td>0</td>\n",
              "      <td>20</td>\n",
              "      <td>9</td>\n",
              "      <td>151</td>\n",
              "      <td>0</td>\n",
              "      <td>0</td>\n",
              "      <td>0</td>\n",
              "      <td>0</td>\n",
              "      <td>1</td>\n",
              "      <td>0</td>\n",
              "      <td>0</td>\n",
              "      <td>0</td>\n",
              "      <td>0</td>\n",
              "      <td>0</td>\n",
              "      <td>1</td>\n",
              "      <td>0.0</td>\n",
              "      <td>0.0</td>\n",
              "    </tr>\n",
              "  </tbody>\n",
              "</table>\n",
              "<p>125972 rows × 17 columns</p>\n",
              "</div>\n",
              "      <button class=\"colab-df-convert\" onclick=\"convertToInteractive('df-6fe36e4a-c63f-407e-b818-5c66400a5f34')\"\n",
              "              title=\"Convert this dataframe to an interactive table.\"\n",
              "              style=\"display:none;\">\n",
              "        \n",
              "  <svg xmlns=\"http://www.w3.org/2000/svg\" height=\"24px\"viewBox=\"0 0 24 24\"\n",
              "       width=\"24px\">\n",
              "    <path d=\"M0 0h24v24H0V0z\" fill=\"none\"/>\n",
              "    <path d=\"M18.56 5.44l.94 2.06.94-2.06 2.06-.94-2.06-.94-.94-2.06-.94 2.06-2.06.94zm-11 1L8.5 8.5l.94-2.06 2.06-.94-2.06-.94L8.5 2.5l-.94 2.06-2.06.94zm10 10l.94 2.06.94-2.06 2.06-.94-2.06-.94-.94-2.06-.94 2.06-2.06.94z\"/><path d=\"M17.41 7.96l-1.37-1.37c-.4-.4-.92-.59-1.43-.59-.52 0-1.04.2-1.43.59L10.3 9.45l-7.72 7.72c-.78.78-.78 2.05 0 2.83L4 21.41c.39.39.9.59 1.41.59.51 0 1.02-.2 1.41-.59l7.78-7.78 2.81-2.81c.8-.78.8-2.07 0-2.86zM5.41 20L4 18.59l7.72-7.72 1.47 1.35L5.41 20z\"/>\n",
              "  </svg>\n",
              "      </button>\n",
              "      \n",
              "  <style>\n",
              "    .colab-df-container {\n",
              "      display:flex;\n",
              "      flex-wrap:wrap;\n",
              "      gap: 12px;\n",
              "    }\n",
              "\n",
              "    .colab-df-convert {\n",
              "      background-color: #E8F0FE;\n",
              "      border: none;\n",
              "      border-radius: 50%;\n",
              "      cursor: pointer;\n",
              "      display: none;\n",
              "      fill: #1967D2;\n",
              "      height: 32px;\n",
              "      padding: 0 0 0 0;\n",
              "      width: 32px;\n",
              "    }\n",
              "\n",
              "    .colab-df-convert:hover {\n",
              "      background-color: #E2EBFA;\n",
              "      box-shadow: 0px 1px 2px rgba(60, 64, 67, 0.3), 0px 1px 3px 1px rgba(60, 64, 67, 0.15);\n",
              "      fill: #174EA6;\n",
              "    }\n",
              "\n",
              "    [theme=dark] .colab-df-convert {\n",
              "      background-color: #3B4455;\n",
              "      fill: #D2E3FC;\n",
              "    }\n",
              "\n",
              "    [theme=dark] .colab-df-convert:hover {\n",
              "      background-color: #434B5C;\n",
              "      box-shadow: 0px 1px 3px 1px rgba(0, 0, 0, 0.15);\n",
              "      filter: drop-shadow(0px 1px 2px rgba(0, 0, 0, 0.3));\n",
              "      fill: #FFFFFF;\n",
              "    }\n",
              "  </style>\n",
              "\n",
              "      <script>\n",
              "        const buttonEl =\n",
              "          document.querySelector('#df-6fe36e4a-c63f-407e-b818-5c66400a5f34 button.colab-df-convert');\n",
              "        buttonEl.style.display =\n",
              "          google.colab.kernel.accessAllowed ? 'block' : 'none';\n",
              "\n",
              "        async function convertToInteractive(key) {\n",
              "          const element = document.querySelector('#df-6fe36e4a-c63f-407e-b818-5c66400a5f34');\n",
              "          const dataTable =\n",
              "            await google.colab.kernel.invokeFunction('convertToInteractive',\n",
              "                                                     [key], {});\n",
              "          if (!dataTable) return;\n",
              "\n",
              "          const docLinkHtml = 'Like what you see? Visit the ' +\n",
              "            '<a target=\"_blank\" href=https://colab.research.google.com/notebooks/data_table.ipynb>data table notebook</a>'\n",
              "            + ' to learn more about interactive tables.';\n",
              "          element.innerHTML = '';\n",
              "          dataTable['output_type'] = 'display_data';\n",
              "          await google.colab.output.renderOutput(dataTable, element);\n",
              "          const docLink = document.createElement('div');\n",
              "          docLink.innerHTML = docLinkHtml;\n",
              "          element.appendChild(docLink);\n",
              "        }\n",
              "      </script>\n",
              "    </div>\n",
              "  </div>\n",
              "  "
            ]
          },
          "metadata": {},
          "execution_count": 64
        }
      ]
    },
    {
      "cell_type": "code",
      "source": [
        "X_train = X_train[selected_features]\n",
        "X_test = X_test[selected_features]"
      ],
      "metadata": {
        "id": "aq3PHu03jZSD"
      },
      "execution_count": 65,
      "outputs": []
    },
    {
      "cell_type": "code",
      "source": [
        "import tensorflow as tf\n",
        "from tensorflow.keras import regularizers"
      ],
      "metadata": {
        "id": "yj2T1TtorYjI"
      },
      "execution_count": 84,
      "outputs": []
    },
    {
      "cell_type": "code",
      "source": [
        "model = tf.keras.Sequential([\n",
        "    tf.keras.layers.Dense(units=64, activation='relu', input_shape=(X_train.shape[1:]), \n",
        "                          kernel_regularizer=regularizers.L1L2(l1=1e-5, l2=1e-4), \n",
        "                          bias_regularizer=regularizers.L2(1e-4),\n",
        "                          activity_regularizer=regularizers.L2(1e-5)),\n",
        "    tf.keras.layers.Dropout(0.4),\n",
        "    tf.keras.layers.Dense(units=128, activation='relu', \n",
        "                          kernel_regularizer=regularizers.L1L2(l1=1e-5, l2=1e-4), \n",
        "                          bias_regularizer=regularizers.L2(1e-4),\n",
        "                          activity_regularizer=regularizers.L2(1e-5)),\n",
        "    tf.keras.layers.Dropout(0.4),\n",
        "    tf.keras.layers.Dense(units=512, activation='relu', \n",
        "                          kernel_regularizer=regularizers.L1L2(l1=1e-5, l2=1e-4), \n",
        "                          bias_regularizer=regularizers.L2(1e-4),\n",
        "                          activity_regularizer=regularizers.L2(1e-5)),\n",
        "    tf.keras.layers.Dropout(0.4),\n",
        "    tf.keras.layers.Dense(units=128, activation='relu', \n",
        "                          kernel_regularizer=regularizers.L1L2(l1=1e-5, l2=1e-4), \n",
        "                          bias_regularizer=regularizers.L2(1e-4),\n",
        "                          activity_regularizer=regularizers.L2(1e-5)),\n",
        "    tf.keras.layers.Dropout(0.4),\n",
        "    tf.keras.layers.Dense(units=1, activation='sigmoid'),\n",
        "])"
      ],
      "metadata": {
        "id": "JMKzmAAWr23R"
      },
      "execution_count": 85,
      "outputs": []
    },
    {
      "cell_type": "code",
      "source": [
        "model.compile(optimizer='adam', loss=tf.keras.losses.BinaryCrossentropy(from_logits=True), metrics=['accuracy'])"
      ],
      "metadata": {
        "id": "ZzDg4xhIsCpR"
      },
      "execution_count": 86,
      "outputs": []
    },
    {
      "cell_type": "code",
      "source": [
        "model.summary()"
      ],
      "metadata": {
        "colab": {
          "base_uri": "https://localhost:8080/"
        },
        "id": "bxsG9rHgsHEO",
        "outputId": "2c9497a3-0a23-4e11-fead-f5f4017c15ec"
      },
      "execution_count": 87,
      "outputs": [
        {
          "output_type": "stream",
          "name": "stdout",
          "text": [
            "Model: \"sequential_5\"\n",
            "_________________________________________________________________\n",
            " Layer (type)                Output Shape              Param #   \n",
            "=================================================================\n",
            " dense_19 (Dense)            (None, 64)                1152      \n",
            "                                                                 \n",
            " dropout_6 (Dropout)         (None, 64)                0         \n",
            "                                                                 \n",
            " dense_20 (Dense)            (None, 128)               8320      \n",
            "                                                                 \n",
            " dropout_7 (Dropout)         (None, 128)               0         \n",
            "                                                                 \n",
            " dense_21 (Dense)            (None, 512)               66048     \n",
            "                                                                 \n",
            " dropout_8 (Dropout)         (None, 512)               0         \n",
            "                                                                 \n",
            " dense_22 (Dense)            (None, 128)               65664     \n",
            "                                                                 \n",
            " dropout_9 (Dropout)         (None, 128)               0         \n",
            "                                                                 \n",
            " dense_23 (Dense)            (None, 1)                 129       \n",
            "                                                                 \n",
            "=================================================================\n",
            "Total params: 141,313\n",
            "Trainable params: 141,313\n",
            "Non-trainable params: 0\n",
            "_________________________________________________________________\n"
          ]
        }
      ]
    },
    {
      "cell_type": "code",
      "source": [
        "from keras.utils.vis_utils import plot_model\n",
        "plot_model(model, to_file='model_plot.png', show_shapes=True, show_layer_names=True)"
      ],
      "metadata": {
        "colab": {
          "base_uri": "https://localhost:8080/",
          "height": 1000
        },
        "id": "hAtywpbFsKX6",
        "outputId": "e17db039-aa09-48b1-d9a7-472f628ac766"
      },
      "execution_count": 88,
      "outputs": [
        {
          "output_type": "execute_result",
          "data": {
            "image/png": "[encoded data removed]",
            "text/plain": [
              "<IPython.core.display.Image object>"
            ]
          },
          "metadata": {},
          "execution_count": 88
        }
      ]
    },
    {
      "cell_type": "code",
      "source": [
        "history = model.fit(X_train, y_train, validation_data=(X_test, y_test), epochs=10, verbose=1)"
      ],
      "metadata": {
        "colab": {
          "base_uri": "https://localhost:8080/"
        },
        "id": "YrCxiSjqsPU4",
        "outputId": "e8a49d99-eeea-41c9-daa0-8e020b9ff13d"
      },
      "execution_count": 92,
      "outputs": [
        {
          "output_type": "stream",
          "name": "stdout",
          "text": [
            "Epoch 1/10\n"
          ]
        },
        {
          "output_type": "stream",
          "name": "stderr",
          "text": [
            "/usr/local/lib/python3.9/dist-packages/keras/backend.py:5703: UserWarning: \"`binary_crossentropy` received `from_logits=True`, but the `output` argument was produced by a Sigmoid activation and thus does not represent logits. Was this intended?\n",
            "  output, from_logits = _get_logits(\n"
          ]
        },
        {
          "output_type": "stream",
          "name": "stdout",
          "text": [
            "2753/2756 [============================>.] - ETA: 0s - loss: 128317048.0000 - accuracy: 0.8755"
          ]
        },
        {
          "output_type": "stream",
          "name": "stderr",
          "text": [
            "/usr/local/lib/python3.9/dist-packages/keras/backend.py:5703: UserWarning: \"`binary_crossentropy` received `from_logits=True`, but the `output` argument was produced by a Sigmoid activation and thus does not represent logits. Was this intended?\n",
            "  output, from_logits = _get_logits(\n"
          ]
        },
        {
          "output_type": "stream",
          "name": "stdout",
          "text": [
            "\b\b\b\b\b\b\b\b\b\b\b\b\b\b\b\b\b\b\b\b\b\b\b\b\b\b\b\b\b\b\b\b\b\b\b\b\b\b\b\b\b\b\b\b\b\b\b\b\b\b\b\b\b\b\b\b\b\b\b\b\b\b\b\b\b\b\b\b\b\b\b\b\b\b\b\b\b\b\b\b\b\b\b\b\b\b\b\b\b\b\b\b\b\b\r2756/2756 [==============================] - 21s 7ms/step - loss: 128194816.0000 - accuracy: 0.8755 - val_loss: 42087456.0000 - val_accuracy: 0.9340\n",
            "Epoch 2/10\n",
            "2756/2756 [==============================] - 19s 7ms/step - loss: 71477872.0000 - accuracy: 0.9341 - val_loss: 15045154.0000 - val_accuracy: 0.9487\n",
            "Epoch 3/10\n",
            "2756/2756 [==============================] - 19s 7ms/step - loss: 36847336.0000 - accuracy: 0.9419 - val_loss: 5096524.5000 - val_accuracy: 0.9538\n",
            "Epoch 4/10\n",
            "2756/2756 [==============================] - 20s 7ms/step - loss: 16600596.0000 - accuracy: 0.9465 - val_loss: 1246453.0000 - val_accuracy: 0.9593\n",
            "Epoch 5/10\n",
            "2756/2756 [==============================] - 22s 8ms/step - loss: 4523518.5000 - accuracy: 0.9504 - val_loss: 152869.4844 - val_accuracy: 0.9637\n",
            "Epoch 6/10\n",
            "2756/2756 [==============================] - 18s 7ms/step - loss: 710698.0625 - accuracy: 0.9534 - val_loss: 4791.4185 - val_accuracy: 0.9622\n",
            "Epoch 7/10\n",
            "2756/2756 [==============================] - 20s 7ms/step - loss: 26549.6738 - accuracy: 0.9525 - val_loss: 0.2339 - val_accuracy: 0.9572\n",
            "Epoch 8/10\n",
            "2756/2756 [==============================] - 17s 6ms/step - loss: 0.2482 - accuracy: 0.9502 - val_loss: 0.2166 - val_accuracy: 0.9572\n",
            "Epoch 9/10\n",
            "2756/2756 [==============================] - 21s 8ms/step - loss: 0.2311 - accuracy: 0.9510 - val_loss: 0.1956 - val_accuracy: 0.9584\n",
            "Epoch 10/10\n",
            "2756/2756 [==============================] - 19s 7ms/step - loss: 0.3111 - accuracy: 0.9598 - val_loss: 0.1548 - val_accuracy: 0.9704\n"
          ]
        }
      ]
    },
    {
      "cell_type": "markdown",
      "source": [
        "### ABC"
      ],
      "metadata": {
        "id": "r3_5xqwYgw4x"
      }
    },
    {
      "cell_type": "code",
      "source": [
        "from sklearn.base import BaseEstimator, ClassifierMixin\n",
        "from sklearn.metrics import accuracy_score\n",
        "from sklearn.tree import DecisionTreeClassifier"
      ],
      "metadata": {
        "id": "dUR3MBPPnavF"
      },
      "execution_count": 93,
      "outputs": []
    },
    {
      "cell_type": "code",
      "source": [
        "# Define the Artificial Bee Colony (ABC) optimization algorithm\n",
        "class ArtificialBeeColony(BaseEstimator, ClassifierMixin):\n",
        "    def __init__(self, n_employees=20, n_scouts=5, max_iter=100, model=DecisionTreeClassifier()):\n",
        "        self.n_employees = n_employees  # Number of employed bees\n",
        "        self.n_scouts = n_scouts  # Number of scout bees\n",
        "        self.max_iter = max_iter  # Maximum number of iterations\n",
        "        self.model = model  # Model for fitness evaluation\n",
        "        self.best_solution = None  # Best solution found\n",
        "        self.best_fitness = None  # Best fitness value found\n",
        "\n",
        "    def _random_solution(self):\n",
        "        return np.random.choice([0, 1], size=self.n_features)\n",
        "\n",
        "    def _fitness(self, solution, X, y):\n",
        "        selected_features_indices = np.nonzero(solution)[0]\n",
        "        X_selected = X.iloc[:, selected_features_indices]\n",
        "        X_train, X_val, y_train, y_val = train_test_split(X_selected, y, test_size=0.2, random_state=42)\n",
        "        self.model.fit(X_train, y_train)\n",
        "        y_pred = self.model.predict(X_val)\n",
        "        accuracy = accuracy_score(y_val, y_pred)\n",
        "        return accuracy\n",
        "\n",
        "    def fit(self, X, y):\n",
        "        self.n_samples, self.n_features = X.shape\n",
        "        self.best_solution = self._random_solution()\n",
        "        self.best_fitness = self._fitness(self.best_solution, X, y)\n",
        "        \n",
        "        for t in range(self.max_iter):\n",
        "            print(f\"Iteration {t}\")\n",
        "            for i in range(self.n_employees):\n",
        "                solution = self._random_solution()\n",
        "                fitness = self._fitness(solution, X, y)\n",
        "                if fitness > self.best_fitness:\n",
        "                    self.best_solution = solution.copy()\n",
        "                    self.best_fitness = fitness\n",
        "            \n",
        "            for i in range(self.n_scouts):\n",
        "                candidate_solution = self._random_solution()\n",
        "                candidate_fitness = self._fitness(candidate_solution, X, y)\n",
        "                if candidate_fitness > self.best_fitness:\n",
        "                    self.best_solution = candidate_solution.copy()\n",
        "                    self.best_fitness = candidate_fitness\n",
        "        \n",
        "        return self.best_solution, self.best_fitness"
      ],
      "metadata": {
        "id": "e-4Kb0ezjQMC"
      },
      "execution_count": 98,
      "outputs": []
    },
    {
      "cell_type": "code",
      "source": [
        "n_employees = 20  # Number of employed bees\n",
        "n_scouts = 5  # Number of scout bees\n",
        "max_iter = 25  # Maximum number of iterations\n",
        "model = DecisionTreeClassifier()\n",
        "abc = ArtificialBeeColony(n_employees, n_scouts, max_iter, model)"
      ],
      "metadata": {
        "id": "UTJVeKDzjVAD"
      },
      "execution_count": 102,
      "outputs": []
    },
    {
      "cell_type": "code",
      "source": [
        "best_solution, best_fitness = abc.fit(X_train, y_train)"
      ],
      "metadata": {
        "colab": {
          "base_uri": "https://localhost:8080/"
        },
        "id": "c7oObaxHjiMV",
        "outputId": "2b6f9d4f-41f5-4373-a051-c229001feb08"
      },
      "execution_count": 103,
      "outputs": [
        {
          "output_type": "stream",
          "name": "stdout",
          "text": [
            "Iteration 0\n",
            "Iteration 1\n",
            "Iteration 2\n",
            "Iteration 3\n",
            "Iteration 4\n",
            "Iteration 5\n",
            "Iteration 6\n",
            "Iteration 7\n",
            "Iteration 8\n",
            "Iteration 9\n",
            "Iteration 10\n",
            "Iteration 11\n",
            "Iteration 12\n",
            "Iteration 13\n",
            "Iteration 14\n",
            "Iteration 15\n",
            "Iteration 16\n",
            "Iteration 17\n",
            "Iteration 18\n",
            "Iteration 19\n",
            "Iteration 20\n",
            "Iteration 21\n",
            "Iteration 22\n",
            "Iteration 23\n",
            "Iteration 24\n"
          ]
        }
      ]
    },
    {
      "cell_type": "code",
      "source": [
        "selected_features_indices = np.nonzero(best_solution)[0]"
      ],
      "metadata": {
        "id": "jLCJo3f-j3vc"
      },
      "execution_count": 104,
      "outputs": []
    },
    {
      "cell_type": "code",
      "source": [
        "X_train_selected = X_train.iloc[:, selected_features_indices]\n",
        "X_test_selected = X_test.iloc[:, selected_features_indices]"
      ],
      "metadata": {
        "id": "wRwNxRUsj9DV"
      },
      "execution_count": 105,
      "outputs": []
    },
    {
      "cell_type": "code",
      "source": [
        "model_1 = tf.keras.Sequential([\n",
        "    tf.keras.layers.Dense(units=64, activation='relu', input_shape=(X_train.shape[1:]), \n",
        "                          kernel_regularizer=regularizers.L1L2(l1=1e-5, l2=1e-4), \n",
        "                          bias_regularizer=regularizers.L2(1e-4),\n",
        "                          activity_regularizer=regularizers.L2(1e-5)),\n",
        "    tf.keras.layers.Dropout(0.4),\n",
        "    tf.keras.layers.Dense(units=128, activation='relu', \n",
        "                          kernel_regularizer=regularizers.L1L2(l1=1e-5, l2=1e-4), \n",
        "                          bias_regularizer=regularizers.L2(1e-4),\n",
        "                          activity_regularizer=regularizers.L2(1e-5)),\n",
        "    tf.keras.layers.Dropout(0.4),\n",
        "    tf.keras.layers.Dense(units=512, activation='relu', \n",
        "                          kernel_regularizer=regularizers.L1L2(l1=1e-5, l2=1e-4), \n",
        "                          bias_regularizer=regularizers.L2(1e-4),\n",
        "                          activity_regularizer=regularizers.L2(1e-5)),\n",
        "    tf.keras.layers.Dropout(0.4),\n",
        "    tf.keras.layers.Dense(units=128, activation='relu', \n",
        "                          kernel_regularizer=regularizers.L1L2(l1=1e-5, l2=1e-4), \n",
        "                          bias_regularizer=regularizers.L2(1e-4),\n",
        "                          activity_regularizer=regularizers.L2(1e-5)),\n",
        "    tf.keras.layers.Dropout(0.4),\n",
        "    tf.keras.layers.Dense(units=1, activation='sigmoid'),\n",
        "])"
      ],
      "metadata": {
        "id": "DLnEv3IlqQF9"
      },
      "execution_count": 106,
      "outputs": []
    },
    {
      "cell_type": "code",
      "source": [
        "model_1.compile(optimizer='adam', loss=tf.keras.losses.BinaryCrossentropy(from_logits=True), metrics=['accuracy'])"
      ],
      "metadata": {
        "id": "L99bEV6DqUav"
      },
      "execution_count": 108,
      "outputs": []
    },
    {
      "cell_type": "code",
      "source": [
        "history_1 = model_1.fit(X_train, y_train, validation_data=(X_test, y_test), epochs=10, verbose=1)"
      ],
      "metadata": {
        "colab": {
          "base_uri": "https://localhost:8080/"
        },
        "id": "rP-p-UJQqZB2",
        "outputId": "65c75199-1ccd-426b-eff5-717385b333d0"
      },
      "execution_count": 110,
      "outputs": [
        {
          "output_type": "stream",
          "name": "stdout",
          "text": [
            "Epoch 1/10\n"
          ]
        },
        {
          "output_type": "stream",
          "name": "stderr",
          "text": [
            "/usr/local/lib/python3.9/dist-packages/keras/backend.py:5703: UserWarning: \"`binary_crossentropy` received `from_logits=True`, but the `output` argument was produced by a Sigmoid activation and thus does not represent logits. Was this intended?\n",
            "  output, from_logits = _get_logits(\n"
          ]
        },
        {
          "output_type": "stream",
          "name": "stdout",
          "text": [
            "2754/2756 [============================>.] - ETA: 0s - loss: 80761248.0000 - accuracy: 0.8678"
          ]
        },
        {
          "output_type": "stream",
          "name": "stderr",
          "text": [
            "/usr/local/lib/python3.9/dist-packages/keras/backend.py:5703: UserWarning: \"`binary_crossentropy` received `from_logits=True`, but the `output` argument was produced by a Sigmoid activation and thus does not represent logits. Was this intended?\n",
            "  output, from_logits = _get_logits(\n"
          ]
        },
        {
          "output_type": "stream",
          "name": "stdout",
          "text": [
            "\b\b\b\b\b\b\b\b\b\b\b\b\b\b\b\b\b\b\b\b\b\b\b\b\b\b\b\b\b\b\b\b\b\b\b\b\b\b\b\b\b\b\b\b\b\b\b\b\b\b\b\b\b\b\b\b\b\b\b\b\b\b\b\b\b\b\b\b\b\b\b\b\b\b\b\b\b\b\b\b\b\b\b\b\b\b\b\b\b\b\b\b\b\r2756/2756 [==============================] - 24s 8ms/step - loss: 80713624.0000 - accuracy: 0.8679 - val_loss: 79698856.0000 - val_accuracy: 0.9440\n",
            "Epoch 2/10\n",
            "2756/2756 [==============================] - 20s 7ms/step - loss: 32967016.0000 - accuracy: 0.9333 - val_loss: 23097578.0000 - val_accuracy: 0.9584\n",
            "Epoch 3/10\n",
            "2756/2756 [==============================] - 21s 7ms/step - loss: 8801952.0000 - accuracy: 0.9457 - val_loss: 3323539.2500 - val_accuracy: 0.9407\n",
            "Epoch 4/10\n",
            "2756/2756 [==============================] - 23s 8ms/step - loss: 1244888.2500 - accuracy: 0.9462 - val_loss: 147252.8125 - val_accuracy: 0.9587\n",
            "Epoch 5/10\n",
            "2756/2756 [==============================] - 19s 7ms/step - loss: 29425.4844 - accuracy: 0.9527 - val_loss: 0.2469 - val_accuracy: 0.9620\n",
            "Epoch 6/10\n",
            "2756/2756 [==============================] - 21s 8ms/step - loss: 0.2662 - accuracy: 0.9526 - val_loss: 0.2487 - val_accuracy: 0.9541\n",
            "Epoch 7/10\n",
            "2756/2756 [==============================] - 20s 7ms/step - loss: 0.2519 - accuracy: 0.9514 - val_loss: 0.2223 - val_accuracy: 0.9559\n",
            "Epoch 8/10\n",
            "2756/2756 [==============================] - 21s 7ms/step - loss: 0.2316 - accuracy: 0.9530 - val_loss: 1.3717 - val_accuracy: 0.9630\n",
            "Epoch 9/10\n",
            "2756/2756 [==============================] - 21s 8ms/step - loss: 0.2325 - accuracy: 0.9546 - val_loss: 0.1906 - val_accuracy: 0.9589\n",
            "Epoch 10/10\n",
            "2756/2756 [==============================] - 21s 7ms/step - loss: 0.2040 - accuracy: 0.9546 - val_loss: 0.2482 - val_accuracy: 0.9613\n"
          ]
        }
      ]
    }
  ]
}